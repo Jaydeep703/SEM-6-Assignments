{
 "cells": [
  {
   "cell_type": "code",
   "execution_count": 3,
   "metadata": {},
   "outputs": [],
   "source": [
    "sentence1 = \"Data science combines math and statistics, specialized programming, advanced analytics, artificial intelligence (AI) \" + \\\n",
    "            \"and machine learning with specific subject matter expertise to uncover actionable insights hidden in an organization’s data\"\n",
    "sentence2 = \"These insights can be used to guide decision making and strategic planning.\""
   ]
  },
  {
   "cell_type": "code",
   "execution_count": 4,
   "metadata": {},
   "outputs": [
    {
     "name": "stderr",
     "output_type": "stream",
     "text": [
      "[nltk_data] Downloading package punkt to\n",
      "[nltk_data]     C:\\Users\\hp\\AppData\\Roaming\\nltk_data...\n",
      "[nltk_data]   Unzipping tokenizers\\punkt.zip.\n",
      "[nltk_data] Downloading package averaged_perceptron_tagger to\n",
      "[nltk_data]     C:\\Users\\hp\\AppData\\Roaming\\nltk_data...\n",
      "[nltk_data]   Unzipping taggers\\averaged_perceptron_tagger.zip.\n",
      "[nltk_data] Downloading package stopwords to\n",
      "[nltk_data]     C:\\Users\\hp\\AppData\\Roaming\\nltk_data...\n",
      "[nltk_data]   Unzipping corpora\\stopwords.zip.\n",
      "[nltk_data] Downloading package wordnet to\n",
      "[nltk_data]     C:\\Users\\hp\\AppData\\Roaming\\nltk_data...\n"
     ]
    },
    {
     "name": "stdout",
     "output_type": "stream",
     "text": [
      "Tokenized words: ['Data', 'science', 'combines', 'math', 'and', 'statistics', ',', 'specialized', 'programming', ',', 'advanced', 'analytics', ',', 'artificial', 'intelligence', '(', 'AI', ')', 'and', 'machine', 'learning', 'with', 'specific', 'subject', 'matter', 'expertise', 'to', 'uncover', 'actionable', 'insights', 'hidden', 'in', 'an', 'organization', '’', 's', 'data']\n",
      "\n",
      "Tokenized sentences: ['Data science combines math and statistics, specialized programming, advanced analytics, artificial intelligence (AI) and machine learning with specific subject matter expertise to uncover actionable insights hidden in an organization’s data']\n"
     ]
    }
   ],
   "source": [
    "import nltk\n",
    "nltk.download('punkt')\n",
    "nltk.download('averaged_perceptron_tagger')\n",
    "nltk.download('stopwords')\n",
    "nltk.download('wordnet')\n",
    "from nltk import word_tokenize, sent_tokenize\n",
    "\n",
    "print('Tokenized words:', word_tokenize(sentence1))\n",
    "print('\\nTokenized sentences:', sent_tokenize(sentence1))"
   ]
  },
  {
   "cell_type": "code",
   "execution_count": 5,
   "metadata": {},
   "outputs": [
    {
     "name": "stdout",
     "output_type": "stream",
     "text": [
      "Tagging Parts of Speech: [('Data', 'NNP'), ('science', 'NN'), ('combines', 'NNS'), ('math', 'NN'), ('and', 'CC'), ('statistics', 'NNS'), (',', ','), ('specialized', 'VBD'), ('programming', 'NN'), (',', ','), ('advanced', 'JJ'), ('analytics', 'NNS'), (',', ','), ('artificial', 'JJ'), ('intelligence', 'NN'), ('(', '('), ('AI', 'NNP'), (')', ')'), ('and', 'CC'), ('machine', 'NN'), ('learning', 'NN'), ('with', 'IN'), ('specific', 'JJ'), ('subject', 'JJ'), ('matter', 'NN'), ('expertise', 'NN'), ('to', 'TO'), ('uncover', 'VB'), ('actionable', 'JJ'), ('insights', 'NNS'), ('hidden', 'VBN'), ('in', 'IN'), ('an', 'DT'), ('organization', 'NN'), ('’', 'NN'), ('s', 'NN'), ('data', 'NNS'), ('These', 'DT'), ('insights', 'NNS'), ('can', 'MD'), ('be', 'VB'), ('used', 'VBN'), ('to', 'TO'), ('guide', 'VB'), ('decision', 'NN'), ('making', 'NN'), ('and', 'CC'), ('strategic', 'JJ'), ('planning', 'NN'), ('.', '.')]\n"
     ]
    }
   ],
   "source": [
    "from nltk import pos_tag\n",
    "\n",
    "token = word_tokenize(sentence1) + word_tokenize(sentence2)\n",
    "tagged = pos_tag(token)                 \n",
    "\n",
    "print(\"Tagging Parts of Speech:\", tagged)"
   ]
  },
  {
   "cell_type": "code",
   "execution_count": 6,
   "metadata": {},
   "outputs": [
    {
     "name": "stdout",
     "output_type": "stream",
     "text": [
      "Unclean version: ['Data', 'science', 'combines', 'math', 'and', 'statistics', ',', 'specialized', 'programming', ',', 'advanced', 'analytics', ',', 'artificial', 'intelligence', '(', 'AI', ')', 'and', 'machine', 'learning', 'with', 'specific', 'subject', 'matter', 'expertise', 'to', 'uncover', 'actionable', 'insights', 'hidden', 'in', 'an', 'organization', '’', 's', 'data']\n",
      "\n",
      "Cleaned version: ['Data', 'science', 'combines', 'math', 'statistics', ',', 'specialized', 'programming', ',', 'advanced', 'analytics', ',', 'artificial', 'intelligence', '(', 'AI', ')', 'machine', 'learning', 'specific', 'subject', 'matter', 'expertise', 'uncover', 'actionable', 'insights', 'hidden', 'organization', '’', 'data']\n"
     ]
    }
   ],
   "source": [
    "from nltk.corpus import stopwords\n",
    "\n",
    "stop_words = stopwords.words('english')\n",
    "\n",
    "token = word_tokenize(sentence1)\n",
    "cleaned_token = []\n",
    "\n",
    "for word in token:\n",
    "    if word not in stop_words:\n",
    "        cleaned_token.append(word)\n",
    "\n",
    "print('Unclean version:', token)\n",
    "print('\\nCleaned version:', cleaned_token)"
   ]
  },
  {
   "cell_type": "code",
   "execution_count": 7,
   "metadata": {},
   "outputs": [
    {
     "name": "stdout",
     "output_type": "stream",
     "text": [
      "these insight can be use to guid decis make and strateg plan .\n"
     ]
    }
   ],
   "source": [
    "from nltk.stem import PorterStemmer\n",
    "\n",
    "stemmer = PorterStemmer()\n",
    "\n",
    "token = word_tokenize(sentence2)\n",
    "\n",
    "stemmed = [stemmer.stem(word) for word in token]\n",
    "print(\" \".join(stemmed))"
   ]
  },
  {
   "cell_type": "code",
   "execution_count": 8,
   "metadata": {},
   "outputs": [
    {
     "name": "stdout",
     "output_type": "stream",
     "text": [
      "These insight can be used to guide decision making and strategic planning .\n"
     ]
    }
   ],
   "source": [
    "from nltk.stem import WordNetLemmatizer \n",
    "\n",
    "lemmatizer = WordNetLemmatizer()\n",
    "\n",
    "token = word_tokenize(sentence2)\n",
    "\n",
    "lemmatized_output = [lemmatizer.lemmatize(word) for word in token]\n",
    "print(\" \".join(lemmatized_output))"
   ]
  }
 ],
 "metadata": {
  "kernelspec": {
   "display_name": "Python 3",
   "language": "python",
   "name": "python3"
  },
  "language_info": {
   "codemirror_mode": {
    "name": "ipython",
    "version": 3
   },
   "file_extension": ".py",
   "mimetype": "text/x-python",
   "name": "python",
   "nbconvert_exporter": "python",
   "pygments_lexer": "ipython3",
   "version": "3.11.1"
  },
  "orig_nbformat": 4
 },
 "nbformat": 4,
 "nbformat_minor": 2
}
